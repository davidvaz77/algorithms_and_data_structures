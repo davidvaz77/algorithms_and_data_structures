{
 "cells": [
  {
   "cell_type": "markdown",
   "metadata": {},
   "source": [
    "# Practice Interview\n",
    "\n",
    "## Objective\n",
    "\n",
    "_*The partner assignment aims to provide participants with the opportunity to practice coding in an interview context. You will analyze your partner's Assignment 1. Moreover, code reviews are common practice in a software development team. This assignment should give you a taste of the code review process.*_\n",
    "\n",
    "## Group Size\n",
    "\n",
    "Each group should have 2 people. You will be assigned a partner\n",
    "\n",
    "## Part 1:\n",
    "\n",
    "You and your partner must share each other's Assignment 1 submission."
   ]
  },
  {
   "cell_type": "markdown",
   "metadata": {},
   "source": [
    "\n",
    "## Part 2:\n",
    "\n",
    "Create a Jupyter Notebook, create 6 of the following headings, and complete the following for your partner's assignment 1:\n",
    "\n",
    "-   Paraphrase the problem in your own words.\n"
   ]
  },
  {
   "cell_type": "markdown",
   "metadata": {},
   "source": [
    "https://github.com/vivyuen/algorithms_and_data_structures/blob/assignment-1/02_activities/assignments/assignment_1.ipynb"
   ]
  },
  {
   "cell_type": "code",
   "execution_count": null,
   "metadata": {},
   "outputs": [],
   "source": [
    "# Your answer here\n",
    "\n",
    "\"\"\"\n",
    "The problem is to find the missing numbers of the range [0,n], where n is the largest number in the list. \n",
    "The list may have duplicates. \n",
    "The goal is to return a list of all the numbers that are missing from the range. \n",
    "If there are no missing numbers it should return -1\n",
    "\"\"\"\n"
   ]
  },
  {
   "cell_type": "markdown",
   "metadata": {},
   "source": [
    "\n",
    "-   Create 1 new example that demonstrates you understand the problem. Trace/walkthrough 1 example that your partner made and explain it.\n"
   ]
  },
  {
   "cell_type": "code",
   "execution_count": null,
   "metadata": {},
   "outputs": [],
   "source": [
    "# Your answer here\n",
    "\n",
    "# Input: [4,0,2,6,1,3]\n",
    "# Output: [5]\n",
    "\n",
    "\"\"\"\n",
    "The list contains integers in the range [0,6]\n",
    "n = 6 (the largest number)\n",
    "The numbers in the set are: [0,1,2,3,4,6]\n",
    "Therefore the missing number is [5]\n",
    "\"\"\"\n",
    "\n",
    "# Partner example \n",
    "# Input: [6, 7, 9]\n",
    "# Output: [8]\n",
    "\n",
    "\"\"\"\n",
    "This example contains integers in the range [6,9]\n",
    "n = 9 (the largest number)\n",
    "\n",
    "Steps: \n",
    "- Sorting the list so that we can iterate through the range \n",
    "- Define min & max as the first & last elements of the list \n",
    "- Initiatlize the empty list with a counter at 0 to keep track of the position in the sorted list \n",
    "- Iterate through the range \n",
    "- It continues to iterate for [i] & s[counter] values \n",
    "- Return the result after appending [8] to the list \n",
    "\n",
    "\"\"\"\n"
   ]
  },
  {
   "cell_type": "markdown",
   "metadata": {},
   "source": [
    "\n",
    "-   Copy the solution your partner wrote. \n"
   ]
  },
  {
   "cell_type": "code",
   "execution_count": 1,
   "metadata": {},
   "outputs": [],
   "source": [
    "# Your answer here\n",
    "\n",
    "from typing import List\n",
    "\n",
    "def missing_num(nums: List) -> list:\n",
    "\ts = sorted(nums)\n",
    "\tmin = s[0]\n",
    "\tmax = s[-1]\n",
    "\tres = []\n",
    "\tcounter = 0\n",
    "\n",
    "\tfor i in range(min,max):  # o(m * nlogn)\n",
    "\t\tif i < s[counter]:\n",
    "\t\t\tres.append(i)\n",
    "\t\telse:\n",
    "\t\t\tcounter+=1\n",
    "\t\t\twhile i == s[counter]:\n",
    "\t\t\t\tcounter+=1\n",
    "\n",
    "\treturn res if res else -1\n"
   ]
  },
  {
   "cell_type": "code",
   "execution_count": 2,
   "metadata": {},
   "outputs": [
    {
     "data": {
      "text/plain": [
       "[4, 7, 9, 11, 12, 13, 14, 15, 16, 17, 18, 19]"
      ]
     },
     "execution_count": 2,
     "metadata": {},
     "output_type": "execute_result"
    }
   ],
   "source": [
    "missing_num([6, 8, 1, 2, 2, 3, 5, 20, 0, 1, 10])"
   ]
  },
  {
   "cell_type": "code",
   "execution_count": 3,
   "metadata": {},
   "outputs": [
    {
     "data": {
      "text/plain": [
       "-1"
      ]
     },
     "execution_count": 3,
     "metadata": {},
     "output_type": "execute_result"
    }
   ],
   "source": [
    "missing_num([1, 2, 3])"
   ]
  },
  {
   "cell_type": "code",
   "execution_count": 4,
   "metadata": {},
   "outputs": [
    {
     "data": {
      "text/plain": [
       "[8]"
      ]
     },
     "execution_count": 4,
     "metadata": {},
     "output_type": "execute_result"
    }
   ],
   "source": [
    "missing_num([6, 7, 9])"
   ]
  },
  {
   "cell_type": "markdown",
   "metadata": {},
   "source": [
    "\n",
    "-   Explain why their solution works in your own words.\n"
   ]
  },
  {
   "cell_type": "code",
   "execution_count": null,
   "metadata": {},
   "outputs": [],
   "source": [
    "# Your answer here\n",
    "\n",
    "\"\"\"\n",
    "The solution works because: \n",
    "- sorting the list ensures that the numbers are in increasing order making it easier to identify missing numbers \n",
    "- defining the min & max to s[0] & s[-1] was helpful for the range \n",
    "- iterating to find the missing values\n",
    "- adding the missing numbers to the list \n",
    "\n",
    "\"\"\""
   ]
  },
  {
   "cell_type": "markdown",
   "metadata": {},
   "source": [
    "\n",
    "-   Explain the problem’s time and space complexity in your own words.\n"
   ]
  },
  {
   "cell_type": "code",
   "execution_count": null,
   "metadata": {},
   "outputs": [],
   "source": [
    "# Your answer here\n",
    "\n",
    "\"\"\"\n",
    "Time complexity: O(n log n + m)\n",
    "- sorting the list takes O(n log n) time  (where n = number of elements in the list)\n",
    "- loop through the range O(m) (where m = max - min)\n",
    "\n",
    "Since n log n dominates m we can represent the time complexity as n log n\n",
    "\n",
    "Space complexity: O(n)\n",
    "- space to store the sorted list \n",
    "- space to store the result list\n",
    "\n",
    "\"\"\""
   ]
  },
  {
   "cell_type": "markdown",
   "metadata": {},
   "source": [
    "\n",
    "-   Critique your partner's solution, including explanation, and if there is anything that should be adjusted.\n"
   ]
  },
  {
   "cell_type": "code",
   "execution_count": null,
   "metadata": {},
   "outputs": [],
   "source": [
    "# Your answer here\n",
    "\n",
    "\"\"\"\n",
    "My partner's solution was really good. \n",
    "Here are the strengths: \n",
    "- very easy to follow logic (sorting -> iterating)\n",
    "- use of sorting simplifies the iteration process \n",
    "- handling multiple values which prevents errors due to duplicates \n",
    "\n",
    "Areas of improvement: \n",
    "- sorting the numbers adds time complexity which will become problematic for larger data - using a set would solbe this problem \n",
    "- sorting also adds to the space complexity which can be resolved by using a set \n",
    "- could use the min() & max() functions directly instead of creating similarly named variables \n",
    "- loop logic readability can be improved so as to avoid index errors and confusions due to duplicates \n",
    "- handling edge cases list empty lists and single element lists \n",
    "\n",
    "\n",
    "\"\"\"\n",
    "\n"
   ]
  },
  {
   "cell_type": "markdown",
   "metadata": {},
   "source": [
    "\n",
    "## Part 3:\n",
    "\n",
    "Please write a 200 word reflection documenting your process from assignment 1, and your presentation and review experience with your partner at the bottom of the Jupyter Notebook under a new heading \"Reflection.\" Again, export this Notebook as pdf.\n"
   ]
  },
  {
   "cell_type": "markdown",
   "metadata": {},
   "source": [
    "### Reflection"
   ]
  },
  {
   "cell_type": "code",
   "execution_count": 8,
   "metadata": {},
   "outputs": [
    {
     "name": "stdout",
     "output_type": "stream",
     "text": [
      "Collecting fpdf\n",
      "  Downloading fpdf-1.7.2.tar.gz (39 kB)\n",
      "  Preparing metadata (setup.py): started\n",
      "  Preparing metadata (setup.py): finished with status 'done'\n",
      "Building wheels for collected packages: fpdf\n",
      "  Building wheel for fpdf (setup.py): started\n",
      "  Building wheel for fpdf (setup.py): finished with status 'done'\n",
      "  Created wheel for fpdf: filename=fpdf-1.7.2-py2.py3-none-any.whl size=40714 sha256=b8bb817650ede077ecb6dabcbd0841e537a75e91d149cc64215ac98910006dbc\n",
      "  Stored in directory: c:\\users\\david\\appdata\\local\\pip\\cache\\wheels\\44\\35\\8b\\86ce00cec7e4d13c5f189680ae0fa82f919bedc066c2cddae9\n",
      "Successfully built fpdf\n",
      "Installing collected packages: fpdf\n",
      "Successfully installed fpdf-1.7.2\n",
      "Note: you may need to restart the kernel to use updated packages.\n"
     ]
    }
   ],
   "source": [
    "pip install fpdf\n"
   ]
  },
  {
   "cell_type": "code",
   "execution_count": 10,
   "metadata": {},
   "outputs": [
    {
     "name": "stdout",
     "output_type": "stream",
     "text": [
      "PDF generated successfully as 'Reflection_DVaz.pdf' \n"
     ]
    }
   ],
   "source": [
    "# Your answer here\n",
    "\n",
    "from fpdf import FPDF\n",
    "\n",
    "\n",
    "my_reflection =\"\"\"\n",
    "When I first got the assignment I was concerned that I wasn't going to know how to solve it. \n",
    "After reading the problem a couple of times and jotting down some key aspects I was able to figure out how to start structuring my solution. \n",
    "I revised the concept of Depth First search and reviewed the examples we covered in class. \n",
    "I then tinkered around with the code, making the requisite changes for it to work for my problem \n",
    "\n",
    "I really enjoyed the peer review process and gained a lot of perspective from my partner's code and process. \n",
    "I liked that the code was clear to understand and followed a discernible logic. \n",
    "It was a formative experience to see how there is indivudality in solving coding problems. \n",
    "It can be as much as art, as it is science. \n",
    "\n",
    "\"\"\"\n",
    "\n",
    "pdf = FPDF()\n",
    "\n",
    "# Adding a page \n",
    "pdf.add_page()\n",
    "\n",
    "# Set the font \n",
    "pdf.set_font(\"Arial\", size=12)\n",
    "\n",
    "# Adding text to the pdf \n",
    "pdf.multi_cell(0,10, txt = my_reflection)\n",
    "\n",
    "# Save the pdf \n",
    "pdf.output(\"Reflection_DVaz.pdf\")\n",
    "\n",
    "print(\"PDF generated successfully as 'Reflection_DVaz.pdf' \")\n",
    "\n",
    "\n"
   ]
  },
  {
   "cell_type": "markdown",
   "metadata": {},
   "source": [
    "\n",
    "## Evaluation Criteria\n",
    "\n",
    "We are looking for the similar points as Assignment 1\n",
    "\n",
    "-   Problem is accurately stated\n",
    "\n",
    "-   New example is correct and easily understandable\n",
    "\n",
    "-   Correctness, time, and space complexity of the coding solution\n",
    "\n",
    "-   Clarity in explaining why the solution works, its time and space complexity\n",
    "\n",
    "-   Quality of critique of your partner's assignment, if necessary\n"
   ]
  },
  {
   "cell_type": "markdown",
   "metadata": {},
   "source": [
    "## Submission Information\n",
    "\n",
    "🚨 **Please review our [Assignment Submission Guide](https://github.com/UofT-DSI/onboarding/blob/main/onboarding_documents/submissions.md)** 🚨 for detailed instructions on how to format, branch, and submit your work. Following these guidelines is crucial for your submissions to be evaluated correctly.\n",
    "\n",
    "### Submission Parameters:\n",
    "* Submission Due Date: `HH:MM AM/PM - DD/MM/YYYY`\n",
    "* The branch name for your repo should be: `assignment-2`\n",
    "* What to submit for this assignment:\n",
    "    * This Jupyter Notebook (assignment_2.ipynb) should be populated and should be the only change in your pull request.\n",
    "* What the pull request link should look like for this assignment: `https://github.com/<your_github_username>/algorithms_and_data_structures/pull/<pr_id>`\n",
    "    * Open a private window in your browser. Copy and paste the link to your pull request into the address bar. Make sure you can see your pull request properly. This helps the technical facilitator and learning support staff review your submission easily.\n",
    "\n",
    "Checklist:\n",
    "- [ ] Created a branch with the correct naming convention.\n",
    "- [ ] Ensured that the repository is public.\n",
    "- [ ] Reviewed the PR description guidelines and adhered to them.\n",
    "- [ ] Verify that the link is accessible in a private browser window.\n",
    "\n",
    "If you encounter any difficulties or have questions, please don't hesitate to reach out to our team via our Slack at `#cohort-3-help`. Our Technical Facilitators and Learning Support staff are here to help you navigate any challenges.\n"
   ]
  }
 ],
 "metadata": {
  "kernelspec": {
   "display_name": "dsi_participant",
   "language": "python",
   "name": "python3"
  },
  "language_info": {
   "codemirror_mode": {
    "name": "ipython",
    "version": 3
   },
   "file_extension": ".py",
   "mimetype": "text/x-python",
   "name": "python",
   "nbconvert_exporter": "python",
   "pygments_lexer": "ipython3",
   "version": "3.9.15"
  }
 },
 "nbformat": 4,
 "nbformat_minor": 2
}
